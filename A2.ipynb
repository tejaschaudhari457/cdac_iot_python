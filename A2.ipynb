{
  "nbformat": 4,
  "nbformat_minor": 0,
  "metadata": {
    "colab": {
      "provenance": []
    },
    "kernelspec": {
      "name": "python3",
      "display_name": "Python 3"
    },
    "language_info": {
      "name": "python"
    }
  },
  "cells": [
    {
      "cell_type": "markdown",
      "source": [
        "1.•\tWrite a Python program that takes a list of integers as input and removes any duplicate elements. Return a new list with only unique elements, preserving the original order."
      ],
      "metadata": {
        "id": "8lNLgtCuE7fD"
      }
    },
    {
      "cell_type": "code",
      "source": [
        "list=[1,2,1,3,2,5,6,4]\n",
        "unique_list=[]\n",
        "seen=set()\n",
        "for number in list:\n",
        "    if number not in seen:\n",
        "        unique_list.append(number)\n",
        "        seen.add(number)\n",
        "print(unique_list)\n"
      ],
      "metadata": {
        "colab": {
          "base_uri": "https://localhost:8080/"
        },
        "id": "B4PQQnpNFVpS",
        "outputId": "4436fd27-5276-4a72-f4a5-5020ad06866d"
      },
      "execution_count": 1,
      "outputs": [
        {
          "output_type": "stream",
          "name": "stdout",
          "text": [
            "[1, 2, 3, 5, 6, 4]\n"
          ]
        }
      ]
    },
    {
      "cell_type": "markdown",
      "source": [
        "2.•\tCreate a program that takes a list of tuples as input, where each tuple contains a name and an age (e.g., (\"Alice\", 30)). Sort the list of tuples by age in ascending order and print the sorted list."
      ],
      "metadata": {
        "id": "KfxlB5NjGg7j"
      }
    },
    {
      "cell_type": "code",
      "source": [
        "# Input list of tuples\n",
        "people = [(\"Alice\", 30), (\"Bob\", 25), (\"Charlie\", 35), (\"Diana\", 28)]\n",
        "\n",
        "# Sorting the list of tuples by the second element (age)\n",
        "sorted_people = sorted(people, key=lambda x: x[1])\n",
        "\n",
        "# Printing the sorted list\n",
        "print(\"Sorted list by age:\")\n",
        "for person in sorted_people:\n",
        "    print(person)\n"
      ],
      "metadata": {
        "colab": {
          "base_uri": "https://localhost:8080/"
        },
        "id": "sBkpzEnIGkXg",
        "outputId": "6ca81af9-9bf4-4fb1-fac9-d2023785e7b1"
      },
      "execution_count": 2,
      "outputs": [
        {
          "output_type": "stream",
          "name": "stdout",
          "text": [
            "Sorted list by age:\n",
            "('Bob', 25)\n",
            "('Diana', 28)\n",
            "('Alice', 30)\n",
            "('Charlie', 35)\n"
          ]
        }
      ]
    },
    {
      "cell_type": "markdown",
      "source": [
        "3.•\tWrite a program that accepts a sentence as input from the user and counts the frequency of each word. Store each word as a key in a dictionary with its frequency as the value. Print the dictionary containing word-frequency pairs."
      ],
      "metadata": {
        "id": "agBUkA45HgbE"
      }
    },
    {
      "cell_type": "code",
      "source": [
        "\n",
        "sentence = input(\"Enter a sentence: \")\n",
        "words = sentence.lower().split()\n",
        "word_counts = {}\n",
        "for word in words:\n",
        "    if word in word_counts:\n",
        "        word_counts[word] += 1\n",
        "    else:\n",
        "        word_counts[word] = 1\n",
        "word_counts"
      ],
      "metadata": {
        "colab": {
          "base_uri": "https://localhost:8080/"
        },
        "id": "EPh_slckHzYX",
        "outputId": "94a5db15-2378-4d98-c775-3a0cf1aa68bd"
      },
      "execution_count": 4,
      "outputs": [
        {
          "name": "stdout",
          "output_type": "stream",
          "text": [
            "Enter a sentence: he is a good boy as well as good \n"
          ]
        },
        {
          "output_type": "execute_result",
          "data": {
            "text/plain": [
              "{'he': 1, 'is': 1, 'a': 1, 'good': 2, 'boy': 1, 'as': 2, 'well': 1}"
            ]
          },
          "metadata": {},
          "execution_count": 4
        }
      ]
    },
    {
      "cell_type": "markdown",
      "source": [
        "4.•\tWrite a program that accepts a dictionary where each key is a student's name and the value is their score (out of 100). Using conditional statements, assign each student a grade (A, B, C, D, F) based on their score. Print each student’s name, score, and grade."
      ],
      "metadata": {
        "id": "JRsK5wiSIJtv"
      }
    },
    {
      "cell_type": "code",
      "source": [
        "# Input dictionary of student scores\n",
        "student_scores = {\n",
        "    \"Alice\": 85,\n",
        "    \"Bob\": 92,\n",
        "    \"Charlie\": 76,\n",
        "    \"Diana\": 61,\n",
        "    \"Ethan\": 48\n",
        "}\n",
        "\n",
        "# Iterating through the dictionary and assigning grades\n",
        "print(\"Student Grades:\")\n",
        "for student, score in student_scores.items():\n",
        "    if score >= 90:\n",
        "        grade = 'A'\n",
        "    elif score >= 80:\n",
        "        grade = 'B'\n",
        "    elif score >= 70:\n",
        "        grade = 'C'\n",
        "    elif score >= 60:\n",
        "        grade = 'D'\n",
        "    else:\n",
        "        grade = 'F'\n",
        "\n",
        "    # Printing the student's name, score, and grade\n",
        "    print(f\"{student}: Score = {score}, Grade = {grade}\")\n"
      ],
      "metadata": {
        "colab": {
          "base_uri": "https://localhost:8080/"
        },
        "id": "7ByUMPr8IM1r",
        "outputId": "ff3b613c-264d-4807-a9b8-684db3faac0c"
      },
      "execution_count": 5,
      "outputs": [
        {
          "output_type": "stream",
          "name": "stdout",
          "text": [
            "Student Grades:\n",
            "Alice: Score = 85, Grade = B\n",
            "Bob: Score = 92, Grade = A\n",
            "Charlie: Score = 76, Grade = C\n",
            "Diana: Score = 61, Grade = D\n",
            "Ethan: Score = 48, Grade = F\n"
          ]
        }
      ]
    },
    {
      "cell_type": "markdown",
      "source": [
        "5.•\tWrite a Python program that accepts a list of numbers and finds the maximum and minimum numbers in the list. Print the maximum and minimum values."
      ],
      "metadata": {
        "id": "GRyETA6ZI2HK"
      }
    },
    {
      "cell_type": "code",
      "source": [
        "nums=[int(x) for x in input(\"Enter the numbers: \").split()]\n",
        "min_num=nums[0]\n",
        "max_num=nums[0]\n",
        "for num in nums:\n",
        "    if num<min_num:\n",
        "        min_num=num\n",
        "    if num>max_num:\n",
        "        max_num=num\n",
        "print(f\"Minimum number is {min_num}\")\n",
        "print(f\"Maximum number is {max_num}\")"
      ],
      "metadata": {
        "colab": {
          "base_uri": "https://localhost:8080/"
        },
        "id": "0fAZXpoUI4gO",
        "outputId": "3e5ad4c8-7683-4914-e22f-6dcd00b5b2ec"
      },
      "execution_count": 8,
      "outputs": [
        {
          "output_type": "stream",
          "name": "stdout",
          "text": [
            "Enter the numbers: 12 34 12 53 11\n",
            "Minimum number is 11\n",
            "Maximum number is 53\n"
          ]
        }
      ]
    },
    {
      "cell_type": "markdown",
      "source": [
        "6.•\tWrite a program that takes a tuple and an integer as input. The program should search for the integer in the tuple and return the index of its first occurrence. If the integer is not found, print \"Not Found.\""
      ],
      "metadata": {
        "id": "BuIxKgFZJjfg"
      }
    },
    {
      "cell_type": "code",
      "source": [
        "data = (10, 20, 30, 40, 50, 30)\n",
        "integer=int(input(\"Enter the integer: \"))\n",
        "if integer in data:\n",
        "    print(f\"Index of {integer} is {data.index(integer)}\")\n",
        "else:\n",
        "    print(\"Not Found\")"
      ],
      "metadata": {
        "colab": {
          "base_uri": "https://localhost:8080/"
        },
        "id": "AeB0BD-NJmz8",
        "outputId": "84193ad9-3787-45c1-c0ac-4eb829834c40"
      },
      "execution_count": 16,
      "outputs": [
        {
          "output_type": "stream",
          "name": "stdout",
          "text": [
            "Enter the integer: 30\n",
            "Index of 30 is 2\n"
          ]
        }
      ]
    },
    {
      "cell_type": "markdown",
      "source": [
        "7.•\tWrite a program that accepts a dictionary where each key is a product name, and the value is its price. Prompt the user to enter a product name, then display the price if the product is in the dictionary. If it isn’t, display \"Product not found.\""
      ],
      "metadata": {
        "id": "ZI52u2MzLlf0"
      }
    },
    {
      "cell_type": "code",
      "source": [
        "# Dictionary of products and their prices\n",
        "products = {\n",
        "    \"Apple\": 1.20,\n",
        "    \"Banana\": 0.50,\n",
        "    \"Orange\": 0.75,\n",
        "    \"Milk\": 1.50,\n",
        "    \"Bread\": 2.00\n",
        "}\n",
        "\n",
        "# Prompt the user to enter a product name\n",
        "product_name = input(\"Enter the product name: \")\n",
        "\n",
        "# Check if the product is in the dictionary\n",
        "if product_name in products:\n",
        "    price = products[product_name]\n",
        "    print(f\"The price of {product_name} is ${price:.2f}.\")\n",
        "else:\n",
        "    print(\"Product not found.\")\n"
      ],
      "metadata": {
        "colab": {
          "base_uri": "https://localhost:8080/"
        },
        "id": "lrOLrbzBLp6x",
        "outputId": "7f0a2eda-885d-4233-d568-66687ae3375f"
      },
      "execution_count": 17,
      "outputs": [
        {
          "output_type": "stream",
          "name": "stdout",
          "text": [
            "Enter the product name: Milk\n",
            "The price of Milk is $1.50.\n"
          ]
        }
      ]
    },
    {
      "cell_type": "markdown",
      "source": [
        "8.•\tCreate a program that accepts a list of integers from the user. Separate the even and odd numbers into two separate lists and print both lists."
      ],
      "metadata": {
        "id": "s0v50oWmMNiG"
      }
    },
    {
      "cell_type": "code",
      "source": [
        "num=[int(x) for x in input(\"Enter the numbers: \").split()]\n",
        "even=[]\n",
        "odd=[]\n",
        "for i in num:\n",
        "    if i%2==0:\n",
        "        even.append(i)\n",
        "    else:\n",
        "        odd.append(i)\n",
        "print(f\"Even numbers are {even}\")\n",
        "print(f\"Odd numbers are {odd}\")\n"
      ],
      "metadata": {
        "colab": {
          "base_uri": "https://localhost:8080/"
        },
        "id": "oPdGkYEmMStL",
        "outputId": "29f7b0cb-8a3f-4fd0-9438-5947f26bd3a0"
      },
      "execution_count": 19,
      "outputs": [
        {
          "output_type": "stream",
          "name": "stdout",
          "text": [
            "Enter the numbers: 1 2 3 4 5 6 \n",
            "Even numbers are [2, 4, 6]\n",
            "Odd numbers are [1, 3, 5]\n"
          ]
        }
      ]
    }
  ]
}