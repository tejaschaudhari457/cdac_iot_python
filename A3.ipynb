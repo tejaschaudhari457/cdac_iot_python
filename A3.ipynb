{
 "cells": [
  {
   "cell_type": "markdown",
   "metadata": {
    "id": "6BjFIABfPO5B"
   },
   "source": [
    "Problem-1: Write a user-defined function calculate_discounted_price that takes two arguments:\n",
    "1.\tThe original price of a product.\n",
    "2.\tThe discount percentage (as an integer).\n",
    "The function should calculate the discounted price and return it.\n",
    "## New Section"
   ]
  },
  {
   "cell_type": "code",
   "execution_count": 3,
   "metadata": {
    "colab": {
     "base_uri": "https://localhost:8080/"
    },
    "id": "fFZ1X0H8PCML",
    "outputId": "12923c69-fe82-4ee5-df9a-85ce57c73af4"
   },
   "outputs": [
    {
     "name": "stdout",
     "output_type": "stream",
     "text": [
      "enter the price:5000\n",
      "enter the discount:5.5\n",
      "the dicounted price is: 4725.0\n"
     ]
    }
   ],
   "source": [
    "price =int(input(\"enter the price:\"))\n",
    "discount=float(input(\"enter the discount:\"))\n",
    "def dicounted_price(price,discount):\n",
    "  amount=price-(price*discount/100)\n",
    "  return amount\n",
    "amount=dicounted_price(price,discount)\n",
    "print(\"the dicounted price is:\",amount)\n",
    "\n"
   ]
  },
  {
   "cell_type": "markdown",
   "metadata": {
    "id": "n39O3IsZRBJc"
   },
   "source": [
    "Problem-2: Write a function find_highest_salesperson that takes a list of dictionaries, where each dictionary represents a salesperson with keys name and sales (indicating their sales figure). The function should go through the list, find the salesperson with the highest sales, and return their name and sales amount. If there are multiple salespeople with the highest sales, return any one of them"
   ]
  },
  {
   "cell_type": "code",
   "execution_count": 4,
   "metadata": {
    "colab": {
     "base_uri": "https://localhost:8080/"
    },
    "id": "R5ZvfqZiRJZM",
    "outputId": "fcdbd308-0408-4a37-8d40-72ce5fe57cb2"
   },
   "outputs": [
    {
     "name": "stdout",
     "output_type": "stream",
     "text": [
      "{'name': 'kiran', 'sales': 19000}\n"
     ]
    }
   ],
   "source": [
    "def highest_salesperson(salespeople):\n",
    "  highestsales=max(salespeople,key=lambda x:x['sales'])\n",
    "  return{\"name\": highestsales['name'],\"sales\" :highestsales['sales']}\n",
    "\n",
    "salespeople=[\n",
    "    {\"name\":'sai','sales':13000},\n",
    "    {'name':'karthik','sales':15000},\n",
    "    {'name':'kiran','sales':19000}\n",
    "]\n",
    "result=highest_salesperson(salespeople)\n",
    "print(result)"
   ]
  },
  {
   "cell_type": "markdown",
   "metadata": {
    "id": "R8LQaiCkSnn4"
   },
   "source": [
    "Problem-3: Write a function calculate_tax that takes a list of incomes as input and calculates the tax for each income based on the following tax brackets:\n",
    "•\tIf the income is below 10,000, tax is 0%.\n",
    "•\tIf the income is between 10,000 and 30,000 (inclusive), tax is 10%.\n",
    "•\tIf the income is between 30,001 and 100,000 (inclusive), tax is 20%.\n",
    "•\tIf the income is above 100,000, tax is 30%.\n",
    "The function should return a list of dictionaries where each dictionary represents an individual's income, tax_rate, and tax_amount based on the above conditions.\n"
   ]
  },
  {
   "cell_type": "code",
   "execution_count": 7,
   "metadata": {
    "colab": {
     "base_uri": "https://localhost:8080/"
    },
    "id": "nlsZvozPSyfn",
    "outputId": "704894ee-3a42-453a-f584-c1f3ada30b62"
   },
   "outputs": [
    {
     "name": "stdout",
     "output_type": "stream",
     "text": [
      "[{'income': 80000, 'taxrate': 0.2, 'taxamount': 16000.0}, {'income': 29000, 'taxrate': 0.1, 'taxamount': 2900.0}, {'income': 50000, 'taxrate': 0.2, 'taxamount': 10000.0}, {'income': 23000, 'taxrate': 0.1, 'taxamount': 2300.0}, {'income': 100000, 'taxrate': 0.2, 'taxamount': 20000.0}]\n"
     ]
    }
   ],
   "source": [
    "def calculate_tax(incomes):\n",
    "  result=[]\n",
    "  for income in incomes:\n",
    "    if income<10000:\n",
    "      taxrate=0\n",
    "    elif 10000<=income<=30000:\n",
    "      taxrate=0.1\n",
    "    elif 30001<=income<=100000:\n",
    "      taxrate=0.2\n",
    "    else:\n",
    "      taxrate=0.3\n",
    "\n",
    "    taxamount=income*taxrate\n",
    "    result.append({'income':income,\n",
    "                   'taxrate':taxrate,\n",
    "                   'taxamount':taxamount})\n",
    "  return result\n",
    "incomes=[80000,29000,50000,23000,100000]\n",
    "results=calculate_tax(incomes)\n",
    "print(results)"
   ]
  },
  {
   "cell_type": "markdown",
   "metadata": {},
   "source": [
    "\n",
    "Problem-4: Create a class named BankAccount that represents a customer's bank account. The account should have account_number, account_holder_name, and balance as attributes, which are initialized when the object is created using a constructor.\n",
    "Business Logic Method: Implement a method withdraw that accepts a withdrawal amount as a parameter. If the balance is sufficient, deduct the amount from the balance and return a success message. If the balance is insufficient, return an error message."
   ]
  },
  {
   "cell_type": "code",
   "execution_count": 1,
   "metadata": {},
   "outputs": [
    {
     "name": "stdout",
     "output_type": "stream",
     "text": [
      "Account Number: 123456\n",
      "Account Holder: John Doe\n",
      "Initial Balance: 1000.0\n",
      "Success: Withdrawal of 500 successful. New balance: 500.0\n",
      "Error: Insufficient balance\n"
     ]
    }
   ],
   "source": [
    "class BankAccount:\n",
    "    def __init__(self, account_number, account_holder_name, balance):\n",
    "        \"\"\"\n",
    "        Constructor to initialize the bank account with account number, account holder name, and balance.\n",
    "        \"\"\"\n",
    "        self.account_number = account_number\n",
    "        self.account_holder_name = account_holder_name\n",
    "        self.balance = balance\n",
    "    \n",
    "    def withdraw(self, amount):\n",
    "        \"\"\"\n",
    "        Method to withdraw an amount from the account. If the balance is sufficient, it deducts the amount.\n",
    "        If the balance is insufficient, it returns an error message.\n",
    "        \"\"\"\n",
    "        if amount > self.balance:\n",
    "            return \"Error: Insufficient balance\"\n",
    "        else:\n",
    "            self.balance -= amount\n",
    "            return f\"Success: Withdrawal of {amount} successful. New balance: {self.balance}\"\n",
    "\n",
    "# Example usage\n",
    "if __name__ == \"__main__\":\n",
    "    # Creating a bank account with initial details\n",
    "    account = BankAccount(\"123456\", \"John Doe\", 1000.0)\n",
    "    \n",
    "    # Displaying the account details\n",
    "    print(f\"Account Number: {account.account_number}\")\n",
    "    print(f\"Account Holder: {account.account_holder_name}\")\n",
    "    print(f\"Initial Balance: {account.balance}\")\n",
    "    \n",
    "    # Attempt to withdraw money\n",
    "    print(account.withdraw(500))  # Success case\n",
    "    print(account.withdraw(600))  # Error case (Insufficient balance)\n"
   ]
  },
  {
   "cell_type": "code",
   "execution_count": null,
   "metadata": {},
   "outputs": [],
   "source": []
  }
 ],
 "metadata": {
  "colab": {
   "provenance": []
  },
  "kernelspec": {
   "display_name": "Python 3 (ipykernel)",
   "language": "python",
   "name": "python3"
  },
  "language_info": {
   "codemirror_mode": {
    "name": "ipython",
    "version": 3
   },
   "file_extension": ".py",
   "mimetype": "text/x-python",
   "name": "python",
   "nbconvert_exporter": "python",
   "pygments_lexer": "ipython3",
   "version": "3.12.7"
  }
 },
 "nbformat": 4,
 "nbformat_minor": 4
}
