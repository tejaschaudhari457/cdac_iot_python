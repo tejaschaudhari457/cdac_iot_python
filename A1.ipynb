{
  "nbformat": 4,
  "nbformat_minor": 0,
  "metadata": {
    "colab": {
      "provenance": []
    },
    "kernelspec": {
      "name": "python3",
      "display_name": "Python 3"
    },
    "language_info": {
      "name": "python"
    }
  },
  "cells": [
    {
      "cell_type": "markdown",
      "source": [
        "1.Write a Python program to take user input of two different data types (e.g., integer and float) and print the data type of each input. Then, convert the integer to a float and the float to an integer, and display the new values."
      ],
      "metadata": {
        "id": "YkG-CGdwxrHa"
      }
    },
    {
      "cell_type": "code",
      "source": [
        "#taking user inputs\n",
        "num1=int(input(\"Enter a number: \"))\n",
        "num2=float(input(\"Enter a number: \"))\n",
        "#type conversion\n",
        "print(float(num1))\n",
        "print(int(num2))\n"
      ],
      "metadata": {
        "colab": {
          "base_uri": "https://localhost:8080/"
        },
        "id": "q-XVAXbNxuxJ",
        "outputId": "2d08c6e3-9933-40c6-b036-05e8a5eb1ba9"
      },
      "execution_count": 16,
      "outputs": [
        {
          "output_type": "stream",
          "name": "stdout",
          "text": [
            "Enter a number: 34\n",
            "Enter a number: 54.55\n",
            "34.0\n",
            "54\n"
          ]
        }
      ]
    },
    {
      "cell_type": "markdown",
      "source": [
        "2.Create a Python program to swap the values of two variables without using a third variable. Display the values before and after swapping."
      ],
      "metadata": {
        "id": "tub_t0ldy3B_"
      }
    },
    {
      "cell_type": "code",
      "source": [
        "#intiallising the numbers\n",
        "a=10\n",
        "b=20\n",
        "#numbers before swapping\n",
        "print(f\"Before swapping a={a} and b={b}\")\n",
        "a=a+b\n",
        "b=a-b\n",
        "a=a-b\n",
        "#numbers after swapping\n",
        "print(f\"After swapping a={a} and b={b}\")"
      ],
      "metadata": {
        "colab": {
          "base_uri": "https://localhost:8080/"
        },
        "id": "lvSxSrogzGWc",
        "outputId": "4c396684-1730-489a-8a8b-b5a630519adc"
      },
      "execution_count": 8,
      "outputs": [
        {
          "output_type": "stream",
          "name": "stdout",
          "text": [
            "Before swapping a=10 and b=20\n",
            "After swapping a=20 and b=10\n"
          ]
        }
      ]
    },
    {
      "cell_type": "markdown",
      "source": [
        "3.Write a program that takes two numbers as input and performs addition, subtraction, multiplication, division, and modulus operations on them. Display the results of each operation."
      ],
      "metadata": {
        "id": "D75HZoTz0MLE"
      }
    },
    {
      "cell_type": "code",
      "source": [
        "#taking the numbers from the user\n",
        "num1=int(input(\"Enter a number: \"))\n",
        "num2=int(input(\"Enter a number: \"))\n",
        "#performing the operations and printing them\n",
        "print(f\"Addition: {num1+num2}\")\n",
        "print(f\"Subtraction: {num1-num2}\")\n",
        "print(f\"Multiplication: {num1*num2}\")\n",
        "print(f\"Division: {num1//num2}\")\n",
        "print(f\"Modulus: {num1%num2}\")"
      ],
      "metadata": {
        "colab": {
          "base_uri": "https://localhost:8080/"
        },
        "id": "hHVM6_uB0X2H",
        "outputId": "63740e0b-daf6-49fd-c00a-cfe0f119962b"
      },
      "execution_count": 17,
      "outputs": [
        {
          "output_type": "stream",
          "name": "stdout",
          "text": [
            "Enter a number: 12\n",
            "Enter a number: 5\n",
            "Addition: 17\n",
            "Subtraction: 7\n",
            "Multiplication: 60\n",
            "Division: 2\n",
            "Modulus: 2\n"
          ]
        }
      ]
    },
    {
      "cell_type": "markdown",
      "source": [
        "4.Given a list of integers, create a Python program that finds the maximum and minimum values using comparison operators only (without using built-in max() or min() functions)."
      ],
      "metadata": {
        "id": "Da497kRW04bM"
      }
    },
    {
      "cell_type": "code",
      "source": [
        "nums=[12,21,15,5,25]\n",
        "max=nums[0]\n",
        "min=nums[0]\n",
        "for i in range(len(nums)):\n",
        "    if nums[i]>max:\n",
        "        max=nums[i]\n",
        "for i in range(len(nums)):\n",
        "    if nums[i]<min:\n",
        "        min=nums[i]\n",
        "print(f\"Maximum: {max}\")\n",
        "print(f\"Minimum: {min}\")"
      ],
      "metadata": {
        "colab": {
          "base_uri": "https://localhost:8080/"
        },
        "id": "HHF2Gxw0An-4",
        "outputId": "3d8e58a9-e6c9-4c76-a2e4-a79f8567265b"
      },
      "execution_count": 18,
      "outputs": [
        {
          "output_type": "stream",
          "name": "stdout",
          "text": [
            "Maximum: 25\n",
            "Minimum: 5\n"
          ]
        }
      ]
    },
    {
      "cell_type": "markdown",
      "source": [
        "5.Write a program that asks the user for their age and checks if they are eligible to vote (18 or older). Display an appropriate message based on their eligibility."
      ],
      "metadata": {
        "id": "ir-DpOnh1d9I"
      }
    },
    {
      "cell_type": "code",
      "source": [
        "age=int(input(\"Enter your age: \"))\n",
        "if age>=18:\n",
        "    print(\"You are eligible to vote\")\n",
        "else:\n",
        "    print(\"You are not eligible to vote\")"
      ],
      "metadata": {
        "colab": {
          "base_uri": "https://localhost:8080/"
        },
        "id": "qPFG-3U41icw",
        "outputId": "bea9b481-b608-48a0-a3e4-a7ecae19b46c"
      },
      "execution_count": 14,
      "outputs": [
        {
          "output_type": "stream",
          "name": "stdout",
          "text": [
            "Enter your age: 34\n",
            "You are eligible to vote\n"
          ]
        }
      ]
    },
    {
      "cell_type": "markdown",
      "source": [
        "6.Create a program that prompts the user to enter a temperature in Celsius. If the temperature is greater than or equal to 100, print \"Boiling Point\"; if it's below 0, print \"Freezing Point\"; otherwise, print \"Normal Range\"."
      ],
      "metadata": {
        "id": "vCGeIPrj1p2_"
      }
    },
    {
      "cell_type": "code",
      "source": [
        "temp=int(input(\"Enter the temperature in Celsius: \"))\n",
        "if temp>=100:\n",
        "    print(\"Boiling Point\")\n",
        "elif temp<0:\n",
        "    print(\"Freezing Point\")\n",
        "else:\n",
        "    print(\"Normal Range\")"
      ],
      "metadata": {
        "colab": {
          "base_uri": "https://localhost:8080/"
        },
        "id": "oScy8rwp1vWv",
        "outputId": "30b3396c-2199-420e-e9f8-12fa7d0b956d"
      },
      "execution_count": 19,
      "outputs": [
        {
          "output_type": "stream",
          "name": "stdout",
          "text": [
            "Enter the temperature in Celsius: 234\n",
            "Boiling Point\n"
          ]
        }
      ]
    },
    {
      "cell_type": "markdown",
      "source": [
        "7.Write a program that prints all the numbers from 1 to 50 that are divisible by 3, using a loop. Use continue to skip numbers not divisible by 3."
      ],
      "metadata": {
        "id": "9AQXw-TABAK6"
      }
    },
    {
      "cell_type": "code",
      "source": [
        "for i in range(1,51):\n",
        "    if i%3==0:\n",
        "        print(i)\n",
        "    else:\n",
        "        continue"
      ],
      "metadata": {
        "colab": {
          "base_uri": "https://localhost:8080/"
        },
        "id": "npy69xcDBE2w",
        "outputId": "89c35670-f2e1-424a-9562-0db6120b3abe"
      },
      "execution_count": 20,
      "outputs": [
        {
          "output_type": "stream",
          "name": "stdout",
          "text": [
            "3\n",
            "6\n",
            "9\n",
            "12\n",
            "15\n",
            "18\n",
            "21\n",
            "24\n",
            "27\n",
            "30\n",
            "33\n",
            "36\n",
            "39\n",
            "42\n",
            "45\n",
            "48\n"
          ]
        }
      ]
    },
    {
      "cell_type": "markdown",
      "source": [
        "8.Create a program that calculates the factorial of a number entered by the user, using a while loop."
      ],
      "metadata": {
        "id": "jLXnYdUCBP5t"
      }
    },
    {
      "cell_type": "code",
      "source": [
        "num=int(input(\"Enter a number: \"))\n",
        "fact=1\n",
        "while num>0:\n",
        "    fact*=num\n",
        "    num-=1\n",
        "print(fact)"
      ],
      "metadata": {
        "colab": {
          "base_uri": "https://localhost:8080/"
        },
        "id": "GoUMiwNCBX3S",
        "outputId": "61d9b408-6b3e-44fa-a366-0bfbea5f5a97"
      },
      "execution_count": 21,
      "outputs": [
        {
          "output_type": "stream",
          "name": "stdout",
          "text": [
            "Enter a number: 5\n",
            "120\n"
          ]
        }
      ]
    },
    {
      "cell_type": "markdown",
      "source": [
        "9.Write a program that takes an integer input n and prints a pyramid pattern of n levels using asterisks (*)."
      ],
      "metadata": {
        "id": "g8Miam7OCFcM"
      }
    },
    {
      "cell_type": "code",
      "source": [
        "num=int(input(\"Enter a number: \"))\n",
        "\n",
        "for i in range(num):\n",
        "    # Print leading spaces\n",
        "    print(\" \" * (num - i - 1), end=\"\")\n",
        "    # Print asterisks\n",
        "    print(\"*\" * (2 * i + 1))"
      ],
      "metadata": {
        "colab": {
          "base_uri": "https://localhost:8080/"
        },
        "id": "ZhQ7IKRdCJ-P",
        "outputId": "7248ab07-9796-4780-85a2-aeac7bf82ec4"
      },
      "execution_count": 22,
      "outputs": [
        {
          "output_type": "stream",
          "name": "stdout",
          "text": [
            "Enter a number: 6\n",
            "     *\n",
            "    ***\n",
            "   *****\n",
            "  *******\n",
            " *********\n",
            "***********\n"
          ]
        }
      ]
    },
    {
      "cell_type": "markdown",
      "source": [
        "10.Create a program that prompts the user for a number and determines if it is a prime number. If the number is prime, print \"Prime\"; otherwise, print \"Not Prime\". Use a for loop and break as part of your solution."
      ],
      "metadata": {
        "id": "19BVRsV1C1zo"
      }
    },
    {
      "cell_type": "code",
      "source": [
        "num=int(input(\"Enter a number: \"))\n",
        "for i in range(2,num):\n",
        "    if num%i==0:\n",
        "        print(\"Not Prime\")\n",
        "        break\n",
        "else:\n",
        "    print(\"Prime\")"
      ],
      "metadata": {
        "colab": {
          "base_uri": "https://localhost:8080/"
        },
        "id": "f9F9QR3YC50I",
        "outputId": "52c8c30f-38f3-4f1c-9840-946d363797b8"
      },
      "execution_count": 24,
      "outputs": [
        {
          "output_type": "stream",
          "name": "stdout",
          "text": [
            "Enter a number: 7\n",
            "Prime\n"
          ]
        }
      ]
    }
  ]
}